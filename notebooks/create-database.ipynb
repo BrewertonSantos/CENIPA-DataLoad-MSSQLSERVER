{
    "metadata": {
        "kernelspec": {
            "name": "SQL",
            "display_name": "SQL",
            "language": "sql"
        },
        "language_info": {
            "name": "sql",
            "version": ""
        }
    },
    "nbformat_minor": 2,
    "nbformat": 4,
    "cells": [
        {
            "cell_type": "code",
            "source": [
                "/* Create database */\r\n",
                "\r\n",
                "IF NOT EXISTS(SELECT * FROM sys.databases WHERE name = 'cenipadl')\r\n",
                "    BEGIN\r\n",
                "        CREATE DATABASE [cenipadl]\r\n",
                "    END\r\n",
                "GO\r\n",
                "\r\n",
                "USE [cenipadl]\r\n",
                "GO"
            ],
            "metadata": {
                "azdata_cell_guid": "431f4b0d-f257-4d91-96d4-a74a01d68656",
                "language": "sql"
            },
            "outputs": [],
            "execution_count": null
        },
        {
            "cell_type": "code",
            "source": [
                "/* Create occurrence */\r\n",
                "USE [cenipadl]\r\n",
                "GO\r\n",
                "\r\n",
                "IF NOT EXISTS(SELECT * FROM sysobjects WHERE name = 'cenipadl')\r\n",
                "    BEGIN\r\n",
                "        CREATE TABLE [occurrence] (\r\n",
                "            [id]                    UNIQUEIDENTIFIER   NOT NULL,\r\n",
                "            [rating]                VARCHAR(10)        NOT NULL,\r\n",
                "            [latitude]              DECIMAL                NULL,\r\n",
                "            [longitude]             DECIMAL                NULL,\r\n",
                "            [city]                  NVARCHAR(160)      NOT NULL,\r\n",
                "            [uf]                    VARCHAR(2)         NOT NULL,\r\n",
                "            [country]               NVARCHAR(160)      NOT NULL,\r\n",
                "            [airfield]              NVARCHAR(160)      NOT NULL,\r\n",
                "            [date]                   DATETIME          NOT NULL,\r\n",
                "            [is_aircraft_ok]        NVARCHAR(10)       NOT NULL,\r\n",
                "            [investigation_Status]  NVARCHAR(20)       NOT NULL,\r\n",
                "            [report_id]             NVARCHAR(30)       NOT NULL,\r\n",
                "            [report_publish]        NVARCHAR(30)           NULL,\r\n",
                "            [publish_date]          DATETIME               NULL,\r\n",
                "            [remembrances]          INT                NOT NULL,\r\n",
                "            [aircraft_involved]     INT                NOT NULL,\r\n",
                "            [runway_exit]           NVARCHAR(10)       NOT NULL\r\n",
                "        )\r\n",
                "    END\r\n",
                "GO\r\n",
                "\r\n",
                "ALTER TABLE [cenipadl].[occurrence]\r\n",
                "    ADD CONSTRAINT [PK_ocurrence] PRIMARY KEY ([id])\r\n",
                "GO"
            ],
            "metadata": {
                "azdata_cell_guid": "b5f0cb55-1c50-4ae3-a652-6b7ff4d0f0e9",
                "language": "sql",
                "tags": []
            },
            "outputs": [
                {
                    "output_type": "display_data",
                    "data": {
                        "text/html": "Commands completed successfully."
                    },
                    "metadata": {}
                },
                {
                    "output_type": "error",
                    "evalue": "Msg 2714, Level 16, State 6, Line 7\r\nThere is already an object named 'occurrence' in the database.",
                    "ename": "",
                    "traceback": []
                },
                {
                    "output_type": "error",
                    "evalue": "Msg 4902, Level 16, State 1, Line 30\r\nCannot find the object \"cenipadl.occurrence\" because it does not exist or you do not have permissions.",
                    "ename": "",
                    "traceback": []
                },
                {
                    "output_type": "display_data",
                    "data": {
                        "text/html": "Total execution time: 00:00:00.008"
                    },
                    "metadata": {}
                }
            ],
            "execution_count": 4
        }
    ]
}