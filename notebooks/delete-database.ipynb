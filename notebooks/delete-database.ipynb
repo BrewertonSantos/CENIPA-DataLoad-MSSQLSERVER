{
    "metadata": {
        "kernelspec": {
            "name": "SQL",
            "display_name": "SQL",
            "language": "sql"
        },
        "language_info": {
            "name": "sql",
            "version": ""
        }
    },
    "nbformat_minor": 2,
    "nbformat": 4,
    "cells": [
        {
            "cell_type": "code",
            "source": [
                "/* Delete table occurrence */\r\n",
                "\r\n",
                "USE [cenipadl]\r\n",
                "GO\r\n",
                "\r\n",
                "DROP TABLE [occurrence]\r\n",
                "GO"
            ],
            "metadata": {
                "azdata_cell_guid": "20b3ed43-9fbe-46ce-8f10-606adb7045aa",
                "language": "sql"
            },
            "outputs": [
                {
                    "output_type": "display_data",
                    "data": {
                        "text/html": "Commands completed successfully."
                    },
                    "metadata": {}
                },
                {
                    "output_type": "display_data",
                    "data": {
                        "text/html": "Commands completed successfully."
                    },
                    "metadata": {}
                },
                {
                    "output_type": "display_data",
                    "data": {
                        "text/html": "Total execution time: 00:00:00.007"
                    },
                    "metadata": {}
                }
            ],
            "execution_count": 1
        }
    ]
}